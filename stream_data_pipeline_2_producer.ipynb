{
 "cells": [
  {
   "cell_type": "code",
   "execution_count": 1,
   "id": "53ca0c7b-ceee-48a4-b4fd-e72f2a046bcd",
   "metadata": {},
   "outputs": [],
   "source": [
    "import os\n",
    "os.chdir(r'C:\\Users\\lipku\\Documents\\EE3801\\Part2')"
   ]
  },
  {
   "cell_type": "markdown",
   "id": "5dd4b884-26c4-48db-82c6-8a1e3c2ea6ef",
   "metadata": {},
   "source": [
    "# 1. Scenario: Streaming audio\n",
    "\n",
    "The company would like to build an in-house automatic speech transcribing tool. We record the streams of audio from one computer and another computer can receive this audio and transcribe in real-time. The system stream in audio, transcribe it using Open AI's whisper model and transcribed text is saved for reporting in real-time."
   ]
  },
  {
   "cell_type": "markdown",
   "id": "ae74d3e7-9ea0-4108-969e-cac6cddd010c",
   "metadata": {},
   "source": [
    "# 1.1 Single stream audio data auto-transcription\n",
    "\n",
    "In the previous lab exercise, you have observed missing words lost in recording and transcription. In this lab, you will attempt to capture all audio streams and transcribe to text. Take note of the time taken to read, write and transcribe the audio.\n",
    "\n",
    "You will need two notebook to run concurrently.\n",
    "\n",
    "Producer - codes below\n",
    "Consumer - stream_data_pipeline_2_consumer.ipynb"
   ]
  },
  {
   "cell_type": "code",
   "execution_count": 2,
   "id": "1091c9bf-20ac-4480-bec1-6d9079127745",
   "metadata": {},
   "outputs": [],
   "source": [
    "# # install python packages\n",
    "# !pip install --upgrade pip\n",
    "\n",
    "# # for mac users\n",
    "# !brew install portaudio \n",
    "# !pip3 install pyaudio\n",
    "\n",
    "# # for windows users\n",
    "# # in wsl\n",
    "# !sudo add-apt-repository ppa:therealkenc/wsl-pulseaudio sudo apt update\n",
    "# !sudo apt install pulseaudio\n",
    "# !pip3 install pyaudio\n",
    "\n",
    "# # for GNU/Linux users\n",
    "# !sudo apt install python3-pyaudio"
   ]
  },
  {
   "cell_type": "code",
   "execution_count": 3,
   "id": "01020c19-e859-4dc8-acc8-be487789a7a3",
   "metadata": {},
   "outputs": [
    {
     "name": "stdout",
     "output_type": "stream",
     "text": [
      "# packages in environment at C:\\Users\\lipku\\miniconda3\\envs\\venv_ee3801:\n",
      "#\n",
      "# Name                    Version                   Build  Channel\n",
      "pyaudio                   0.2.11          py311h2bbff1b_2  \n"
     ]
    }
   ],
   "source": [
    "# Check if pyaudio is installed with Conda\n",
    "!conda list pyaudio\n"
   ]
  },
  {
   "cell_type": "markdown",
   "id": "baea88fc-db83-4917-9e58-e66ccde9a0df",
   "metadata": {},
   "source": [
    "# 1.2 Stream in audio"
   ]
  },
  {
   "cell_type": "code",
   "execution_count": 4,
   "id": "b58c939d-ca54-4564-a07f-9ece645f4b22",
   "metadata": {},
   "outputs": [
    {
     "name": "stdout",
     "output_type": "stream",
     "text": [
      "audio.get_device_count(): 26\n",
      "{'index': 0, 'structVersion': 2, 'name': 'Microsoft Sound Mapper - Input', 'hostApi': 0, 'maxInputChannels': 2, 'maxOutputChannels': 0, 'defaultLowInputLatency': 0.09, 'defaultLowOutputLatency': 0.09, 'defaultHighInputLatency': 0.18, 'defaultHighOutputLatency': 0.18, 'defaultSampleRate': 44100.0}\n",
      "{'index': 1, 'structVersion': 2, 'name': 'Microphone Array (Intel® Smart ', 'hostApi': 0, 'maxInputChannels': 4, 'maxOutputChannels': 0, 'defaultLowInputLatency': 0.09, 'defaultLowOutputLatency': 0.09, 'defaultHighInputLatency': 0.18, 'defaultHighOutputLatency': 0.18, 'defaultSampleRate': 44100.0}\n",
      "{'index': 2, 'structVersion': 2, 'name': 'Microsoft Sound Mapper - Output', 'hostApi': 0, 'maxInputChannels': 0, 'maxOutputChannels': 2, 'defaultLowInputLatency': 0.09, 'defaultLowOutputLatency': 0.09, 'defaultHighInputLatency': 0.18, 'defaultHighOutputLatency': 0.18, 'defaultSampleRate': 44100.0}\n",
      "{'index': 3, 'structVersion': 2, 'name': 'Speakers (Realtek(R) Audio)', 'hostApi': 0, 'maxInputChannels': 0, 'maxOutputChannels': 8, 'defaultLowInputLatency': 0.09, 'defaultLowOutputLatency': 0.09, 'defaultHighInputLatency': 0.18, 'defaultHighOutputLatency': 0.18, 'defaultSampleRate': 44100.0}\n",
      "{'index': 4, 'structVersion': 2, 'name': 'Line ()', 'hostApi': 1, 'maxInputChannels': 2, 'maxOutputChannels': 0, 'defaultLowInputLatency': 0.01, 'defaultLowOutputLatency': 0.01, 'defaultHighInputLatency': 0.08533333333333333, 'defaultHighOutputLatency': 0.08533333333333333, 'defaultSampleRate': 44100.0}\n",
      "{'index': 5, 'structVersion': 2, 'name': 'Stereo Mix (Realtek HD Audio Stereo input)', 'hostApi': 1, 'maxInputChannels': 2, 'maxOutputChannels': 0, 'defaultLowInputLatency': 0.01, 'defaultLowOutputLatency': 0.01, 'defaultHighInputLatency': 0.04, 'defaultHighOutputLatency': 0.04, 'defaultSampleRate': 48000.0}\n",
      "{'index': 6, 'structVersion': 2, 'name': 'Microphone 1 (Realtek HD Audio Mic input with SST)', 'hostApi': 1, 'maxInputChannels': 2, 'maxOutputChannels': 0, 'defaultLowInputLatency': 0.01, 'defaultLowOutputLatency': 0.01, 'defaultHighInputLatency': 0.04, 'defaultHighOutputLatency': 0.04, 'defaultSampleRate': 48000.0}\n",
      "{'index': 7, 'structVersion': 2, 'name': 'Microphone 2 (Realtek HD Audio Mic input with SST)', 'hostApi': 1, 'maxInputChannels': 4, 'maxOutputChannels': 0, 'defaultLowInputLatency': 0.01, 'defaultLowOutputLatency': 0.01, 'defaultHighInputLatency': 0.04, 'defaultHighOutputLatency': 0.04, 'defaultSampleRate': 16000.0}\n",
      "{'index': 8, 'structVersion': 2, 'name': 'Microphone 3 (Realtek HD Audio Mic input with SST)', 'hostApi': 1, 'maxInputChannels': 4, 'maxOutputChannels': 0, 'defaultLowInputLatency': 0.01, 'defaultLowOutputLatency': 0.01, 'defaultHighInputLatency': 0.04, 'defaultHighOutputLatency': 0.04, 'defaultSampleRate': 16000.0}\n",
      "{'index': 9, 'structVersion': 2, 'name': 'Headphones 1 (Realtek HD Audio 2nd output with SST)', 'hostApi': 1, 'maxInputChannels': 0, 'maxOutputChannels': 2, 'defaultLowInputLatency': 0.01, 'defaultLowOutputLatency': 0.01, 'defaultHighInputLatency': 0.04, 'defaultHighOutputLatency': 0.04, 'defaultSampleRate': 44100.0}\n",
      "{'index': 10, 'structVersion': 2, 'name': 'Headphones 2 (Realtek HD Audio 2nd output with SST)', 'hostApi': 1, 'maxInputChannels': 0, 'maxOutputChannels': 8, 'defaultLowInputLatency': 0.01, 'defaultLowOutputLatency': 0.01, 'defaultHighInputLatency': 0.04, 'defaultHighOutputLatency': 0.04, 'defaultSampleRate': 44100.0}\n",
      "{'index': 11, 'structVersion': 2, 'name': 'PC Speaker (Realtek HD Audio 2nd output with SST)', 'hostApi': 1, 'maxInputChannels': 2, 'maxOutputChannels': 0, 'defaultLowInputLatency': 0.01, 'defaultLowOutputLatency': 0.01, 'defaultHighInputLatency': 0.04, 'defaultHighOutputLatency': 0.04, 'defaultSampleRate': 48000.0}\n",
      "{'index': 12, 'structVersion': 2, 'name': 'Speakers 1 (Realtek HD Audio output with SST)', 'hostApi': 1, 'maxInputChannels': 0, 'maxOutputChannels': 2, 'defaultLowInputLatency': 0.01, 'defaultLowOutputLatency': 0.01, 'defaultHighInputLatency': 0.04, 'defaultHighOutputLatency': 0.04, 'defaultSampleRate': 44100.0}\n",
      "{'index': 13, 'structVersion': 2, 'name': 'Speakers 2 (Realtek HD Audio output with SST)', 'hostApi': 1, 'maxInputChannels': 0, 'maxOutputChannels': 8, 'defaultLowInputLatency': 0.01, 'defaultLowOutputLatency': 0.01, 'defaultHighInputLatency': 0.04, 'defaultHighOutputLatency': 0.04, 'defaultSampleRate': 44100.0}\n",
      "{'index': 14, 'structVersion': 2, 'name': 'PC Speaker (Realtek HD Audio output with SST)', 'hostApi': 1, 'maxInputChannels': 2, 'maxOutputChannels': 0, 'defaultLowInputLatency': 0.01, 'defaultLowOutputLatency': 0.01, 'defaultHighInputLatency': 0.04, 'defaultHighOutputLatency': 0.04, 'defaultSampleRate': 48000.0}\n",
      "{'index': 15, 'structVersion': 2, 'name': 'Headphones ()', 'hostApi': 1, 'maxInputChannels': 0, 'maxOutputChannels': 2, 'defaultLowInputLatency': 0.01, 'defaultLowOutputLatency': 0.01, 'defaultHighInputLatency': 0.08533333333333333, 'defaultHighOutputLatency': 0.08533333333333333, 'defaultSampleRate': 44100.0}\n",
      "{'index': 16, 'structVersion': 2, 'name': 'Speakers ()', 'hostApi': 1, 'maxInputChannels': 0, 'maxOutputChannels': 2, 'defaultLowInputLatency': 0.01, 'defaultLowOutputLatency': 0.01, 'defaultHighInputLatency': 0.08533333333333333, 'defaultHighOutputLatency': 0.08533333333333333, 'defaultSampleRate': 44100.0}\n",
      "{'index': 17, 'structVersion': 2, 'name': 'Headphones ()', 'hostApi': 1, 'maxInputChannels': 0, 'maxOutputChannels': 2, 'defaultLowInputLatency': 0.01, 'defaultLowOutputLatency': 0.01, 'defaultHighInputLatency': 0.08533333333333333, 'defaultHighOutputLatency': 0.08533333333333333, 'defaultSampleRate': 44100.0}\n",
      "{'index': 18, 'structVersion': 2, 'name': 'Speakers ()', 'hostApi': 1, 'maxInputChannels': 0, 'maxOutputChannels': 2, 'defaultLowInputLatency': 0.01, 'defaultLowOutputLatency': 0.01, 'defaultHighInputLatency': 0.08533333333333333, 'defaultHighOutputLatency': 0.08533333333333333, 'defaultSampleRate': 44100.0}\n",
      "{'index': 19, 'structVersion': 2, 'name': 'Microphone Array 1 (Intel® Smart Sound Technology DMIC Microphone)', 'hostApi': 1, 'maxInputChannels': 2, 'maxOutputChannels': 0, 'defaultLowInputLatency': 0.01, 'defaultLowOutputLatency': 0.01, 'defaultHighInputLatency': 0.04, 'defaultHighOutputLatency': 0.04, 'defaultSampleRate': 48000.0}\n",
      "{'index': 20, 'structVersion': 2, 'name': 'Microphone Array 2 (Intel® Smart Sound Technology DMIC Microphone)', 'hostApi': 1, 'maxInputChannels': 2, 'maxOutputChannels': 0, 'defaultLowInputLatency': 0.01, 'defaultLowOutputLatency': 0.01, 'defaultHighInputLatency': 0.04, 'defaultHighOutputLatency': 0.04, 'defaultSampleRate': 48000.0}\n",
      "{'index': 21, 'structVersion': 2, 'name': 'Microphone Array 3 (Intel® Smart Sound Technology DMIC Microphone)', 'hostApi': 1, 'maxInputChannels': 4, 'maxOutputChannels': 0, 'defaultLowInputLatency': 0.01, 'defaultLowOutputLatency': 0.01, 'defaultHighInputLatency': 0.04, 'defaultHighOutputLatency': 0.04, 'defaultSampleRate': 16000.0}\n",
      "{'index': 22, 'structVersion': 2, 'name': 'Microphone Array 4 (Intel® Smart Sound Technology DMIC Microphone)', 'hostApi': 1, 'maxInputChannels': 4, 'maxOutputChannels': 0, 'defaultLowInputLatency': 0.01, 'defaultLowOutputLatency': 0.01, 'defaultHighInputLatency': 0.04, 'defaultHighOutputLatency': 0.04, 'defaultSampleRate': 16000.0}\n",
      "{'index': 23, 'structVersion': 2, 'name': 'Headphones ()', 'hostApi': 1, 'maxInputChannels': 0, 'maxOutputChannels': 2, 'defaultLowInputLatency': 0.01, 'defaultLowOutputLatency': 0.01, 'defaultHighInputLatency': 0.08533333333333333, 'defaultHighOutputLatency': 0.08533333333333333, 'defaultSampleRate': 44100.0}\n",
      "{'index': 24, 'structVersion': 2, 'name': 'Headphones ()', 'hostApi': 1, 'maxInputChannels': 0, 'maxOutputChannels': 2, 'defaultLowInputLatency': 0.01, 'defaultLowOutputLatency': 0.01, 'defaultHighInputLatency': 0.08533333333333333, 'defaultHighOutputLatency': 0.08533333333333333, 'defaultSampleRate': 44100.0}\n",
      "{'index': 25, 'structVersion': 2, 'name': 'Speakers ()', 'hostApi': 1, 'maxInputChannels': 0, 'maxOutputChannels': 2, 'defaultLowInputLatency': 0.01, 'defaultLowOutputLatency': 0.01, 'defaultHighInputLatency': 0.08533333333333333, 'defaultHighOutputLatency': 0.08533333333333333, 'defaultSampleRate': 44100.0}\n"
     ]
    }
   ],
   "source": [
    "# Testing audio setup in this device\n",
    "import pyaudio\n",
    "\n",
    "audio = pyaudio.PyAudio()\n",
    "print(\"audio.get_device_count():\",audio.get_device_count())\n",
    "for i in range(audio.get_device_count()):\n",
    "    print(audio.get_device_info_by_index(i))"
   ]
  },
  {
   "cell_type": "code",
   "execution_count": 5,
   "id": "f064deaf-892c-4af7-8ca2-94b152704f7e",
   "metadata": {},
   "outputs": [
    {
     "name": "stdout",
     "output_type": "stream",
     "text": [
      "Choosing my input audio: {'index': 1, 'structVersion': 2, 'name': 'Microphone Array (Intel® Smart ', 'hostApi': 0, 'maxInputChannels': 4, 'maxOutputChannels': 0, 'defaultLowInputLatency': 0.09, 'defaultLowOutputLatency': 0.09, 'defaultHighInputLatency': 0.18, 'defaultHighOutputLatency': 0.18, 'defaultSampleRate': 44100.0}\n",
      "Choosing my output audio: {'index': 2, 'structVersion': 2, 'name': 'Microsoft Sound Mapper - Output', 'hostApi': 0, 'maxInputChannels': 0, 'maxOutputChannels': 2, 'defaultLowInputLatency': 0.09, 'defaultLowOutputLatency': 0.09, 'defaultHighInputLatency': 0.18, 'defaultHighOutputLatency': 0.18, 'defaultSampleRate': 44100.0}\n"
     ]
    }
   ],
   "source": [
    "# This is to determine which input audio and output audio you will use.\n",
    "# Explore and find the right index to use for input and output in your device.\n",
    "# need a device with max input channels > 0\n",
    "print(\"Choosing my input audio:\",audio.get_device_info_by_index(1))\n",
    "print(\"Choosing my output audio:\",audio.get_device_info_by_index(2))\n",
    "audio.terminate()"
   ]
  },
  {
   "cell_type": "markdown",
   "id": "1e5a0a7a-3bb9-41ea-8f7c-3d67db5766a5",
   "metadata": {},
   "source": [
    "# 2. Load whisper model once"
   ]
  },
  {
   "cell_type": "code",
   "execution_count": 6,
   "id": "0bd7390e-1a00-4595-ab29-b10cadc1f037",
   "metadata": {},
   "outputs": [
    {
     "name": "stdout",
     "output_type": "stream",
     "text": [
      "Requirement already satisfied: jupyter in c:\\users\\lipku\\miniconda3\\envs\\venv_ee3801\\lib\\site-packages (1.1.1)\n",
      "Requirement already satisfied: notebook in c:\\users\\lipku\\miniconda3\\envs\\venv_ee3801\\lib\\site-packages (from jupyter) (7.2.2)\n",
      "Requirement already satisfied: jupyter-console in c:\\users\\lipku\\miniconda3\\envs\\venv_ee3801\\lib\\site-packages (from jupyter) (6.6.3)\n",
      "Requirement already satisfied: nbconvert in c:\\users\\lipku\\miniconda3\\envs\\venv_ee3801\\lib\\site-packages (from jupyter) (7.16.4)\n",
      "Requirement already satisfied: ipykernel in c:\\users\\lipku\\miniconda3\\envs\\venv_ee3801\\lib\\site-packages (from jupyter) (6.29.5)\n",
      "Requirement already satisfied: ipywidgets in c:\\users\\lipku\\miniconda3\\envs\\venv_ee3801\\lib\\site-packages (from jupyter) (8.1.5)\n",
      "Requirement already satisfied: jupyterlab in c:\\users\\lipku\\miniconda3\\envs\\venv_ee3801\\lib\\site-packages (from jupyter) (4.2.5)\n",
      "Requirement already satisfied: comm>=0.1.1 in c:\\users\\lipku\\miniconda3\\envs\\venv_ee3801\\lib\\site-packages (from ipykernel->jupyter) (0.2.1)\n",
      "Requirement already satisfied: debugpy>=1.6.5 in c:\\users\\lipku\\miniconda3\\envs\\venv_ee3801\\lib\\site-packages (from ipykernel->jupyter) (1.6.7)\n",
      "Requirement already satisfied: ipython>=7.23.1 in c:\\users\\lipku\\miniconda3\\envs\\venv_ee3801\\lib\\site-packages (from ipykernel->jupyter) (8.27.0)\n",
      "Requirement already satisfied: jupyter-client>=6.1.12 in c:\\users\\lipku\\miniconda3\\envs\\venv_ee3801\\lib\\site-packages (from ipykernel->jupyter) (8.6.0)\n",
      "Requirement already satisfied: jupyter-core!=5.0.*,>=4.12 in c:\\users\\lipku\\miniconda3\\envs\\venv_ee3801\\lib\\site-packages (from ipykernel->jupyter) (5.7.2)\n",
      "Requirement already satisfied: matplotlib-inline>=0.1 in c:\\users\\lipku\\miniconda3\\envs\\venv_ee3801\\lib\\site-packages (from ipykernel->jupyter) (0.1.6)\n",
      "Requirement already satisfied: nest-asyncio in c:\\users\\lipku\\miniconda3\\envs\\venv_ee3801\\lib\\site-packages (from ipykernel->jupyter) (1.6.0)\n",
      "Requirement already satisfied: packaging in c:\\users\\lipku\\miniconda3\\envs\\venv_ee3801\\lib\\site-packages (from ipykernel->jupyter) (24.1)\n",
      "Requirement already satisfied: psutil in c:\\users\\lipku\\miniconda3\\envs\\venv_ee3801\\lib\\site-packages (from ipykernel->jupyter) (5.9.0)\n",
      "Requirement already satisfied: pyzmq>=24 in c:\\users\\lipku\\miniconda3\\envs\\venv_ee3801\\lib\\site-packages (from ipykernel->jupyter) (25.1.2)\n",
      "Requirement already satisfied: tornado>=6.1 in c:\\users\\lipku\\miniconda3\\envs\\venv_ee3801\\lib\\site-packages (from ipykernel->jupyter) (6.4.1)\n",
      "Requirement already satisfied: traitlets>=5.4.0 in c:\\users\\lipku\\miniconda3\\envs\\venv_ee3801\\lib\\site-packages (from ipykernel->jupyter) (5.14.3)\n",
      "Requirement already satisfied: widgetsnbextension~=4.0.12 in c:\\users\\lipku\\miniconda3\\envs\\venv_ee3801\\lib\\site-packages (from ipywidgets->jupyter) (4.0.13)\n",
      "Requirement already satisfied: jupyterlab-widgets~=3.0.12 in c:\\users\\lipku\\miniconda3\\envs\\venv_ee3801\\lib\\site-packages (from ipywidgets->jupyter) (3.0.13)\n",
      "Requirement already satisfied: prompt-toolkit>=3.0.30 in c:\\users\\lipku\\miniconda3\\envs\\venv_ee3801\\lib\\site-packages (from jupyter-console->jupyter) (3.0.43)\n",
      "Requirement already satisfied: pygments in c:\\users\\lipku\\miniconda3\\envs\\venv_ee3801\\lib\\site-packages (from jupyter-console->jupyter) (2.15.1)\n",
      "Requirement already satisfied: async-lru>=1.0.0 in c:\\users\\lipku\\miniconda3\\envs\\venv_ee3801\\lib\\site-packages (from jupyterlab->jupyter) (2.0.4)\n",
      "Requirement already satisfied: httpx>=0.25.0 in c:\\users\\lipku\\miniconda3\\envs\\venv_ee3801\\lib\\site-packages (from jupyterlab->jupyter) (0.27.0)\n",
      "Requirement already satisfied: jinja2>=3.0.3 in c:\\users\\lipku\\miniconda3\\envs\\venv_ee3801\\lib\\site-packages (from jupyterlab->jupyter) (3.1.4)\n",
      "Requirement already satisfied: jupyter-lsp>=2.0.0 in c:\\users\\lipku\\miniconda3\\envs\\venv_ee3801\\lib\\site-packages (from jupyterlab->jupyter) (2.2.0)\n",
      "Requirement already satisfied: jupyter-server<3,>=2.4.0 in c:\\users\\lipku\\miniconda3\\envs\\venv_ee3801\\lib\\site-packages (from jupyterlab->jupyter) (2.14.1)\n",
      "Requirement already satisfied: jupyterlab-server<3,>=2.27.1 in c:\\users\\lipku\\miniconda3\\envs\\venv_ee3801\\lib\\site-packages (from jupyterlab->jupyter) (2.27.3)\n",
      "Requirement already satisfied: notebook-shim>=0.2 in c:\\users\\lipku\\miniconda3\\envs\\venv_ee3801\\lib\\site-packages (from jupyterlab->jupyter) (0.2.3)\n",
      "Requirement already satisfied: setuptools>=40.1.0 in c:\\users\\lipku\\miniconda3\\envs\\venv_ee3801\\lib\\site-packages (from jupyterlab->jupyter) (75.1.0)\n",
      "Requirement already satisfied: beautifulsoup4 in c:\\users\\lipku\\miniconda3\\envs\\venv_ee3801\\lib\\site-packages (from nbconvert->jupyter) (4.12.3)\n",
      "Requirement already satisfied: bleach!=5.0.0 in c:\\users\\lipku\\miniconda3\\envs\\venv_ee3801\\lib\\site-packages (from nbconvert->jupyter) (4.1.0)\n",
      "Requirement already satisfied: defusedxml in c:\\users\\lipku\\miniconda3\\envs\\venv_ee3801\\lib\\site-packages (from nbconvert->jupyter) (0.7.1)\n",
      "Requirement already satisfied: jupyterlab-pygments in c:\\users\\lipku\\miniconda3\\envs\\venv_ee3801\\lib\\site-packages (from nbconvert->jupyter) (0.1.2)\n",
      "Requirement already satisfied: markupsafe>=2.0 in c:\\users\\lipku\\miniconda3\\envs\\venv_ee3801\\lib\\site-packages (from nbconvert->jupyter) (2.1.3)\n",
      "Requirement already satisfied: mistune<4,>=2.0.3 in c:\\users\\lipku\\miniconda3\\envs\\venv_ee3801\\lib\\site-packages (from nbconvert->jupyter) (2.0.4)\n",
      "Requirement already satisfied: nbclient>=0.5.0 in c:\\users\\lipku\\miniconda3\\envs\\venv_ee3801\\lib\\site-packages (from nbconvert->jupyter) (0.8.0)\n",
      "Requirement already satisfied: nbformat>=5.7 in c:\\users\\lipku\\miniconda3\\envs\\venv_ee3801\\lib\\site-packages (from nbconvert->jupyter) (5.10.4)\n",
      "Requirement already satisfied: pandocfilters>=1.4.1 in c:\\users\\lipku\\miniconda3\\envs\\venv_ee3801\\lib\\site-packages (from nbconvert->jupyter) (1.5.0)\n",
      "Requirement already satisfied: tinycss2 in c:\\users\\lipku\\miniconda3\\envs\\venv_ee3801\\lib\\site-packages (from nbconvert->jupyter) (1.2.1)\n",
      "Requirement already satisfied: six>=1.9.0 in c:\\users\\lipku\\miniconda3\\envs\\venv_ee3801\\lib\\site-packages (from bleach!=5.0.0->nbconvert->jupyter) (1.16.0)\n",
      "Requirement already satisfied: webencodings in c:\\users\\lipku\\miniconda3\\envs\\venv_ee3801\\lib\\site-packages (from bleach!=5.0.0->nbconvert->jupyter) (0.5.1)\n",
      "Requirement already satisfied: anyio in c:\\users\\lipku\\miniconda3\\envs\\venv_ee3801\\lib\\site-packages (from httpx>=0.25.0->jupyterlab->jupyter) (4.6.2)\n",
      "Requirement already satisfied: certifi in c:\\users\\lipku\\miniconda3\\envs\\venv_ee3801\\lib\\site-packages (from httpx>=0.25.0->jupyterlab->jupyter) (2024.8.30)\n",
      "Requirement already satisfied: httpcore==1.* in c:\\users\\lipku\\miniconda3\\envs\\venv_ee3801\\lib\\site-packages (from httpx>=0.25.0->jupyterlab->jupyter) (1.0.2)\n",
      "Requirement already satisfied: idna in c:\\users\\lipku\\miniconda3\\envs\\venv_ee3801\\lib\\site-packages (from httpx>=0.25.0->jupyterlab->jupyter) (3.10)\n",
      "Requirement already satisfied: sniffio in c:\\users\\lipku\\miniconda3\\envs\\venv_ee3801\\lib\\site-packages (from httpx>=0.25.0->jupyterlab->jupyter) (1.3.0)\n",
      "Requirement already satisfied: h11<0.15,>=0.13 in c:\\users\\lipku\\miniconda3\\envs\\venv_ee3801\\lib\\site-packages (from httpcore==1.*->httpx>=0.25.0->jupyterlab->jupyter) (0.14.0)\n",
      "Requirement already satisfied: decorator in c:\\users\\lipku\\miniconda3\\envs\\venv_ee3801\\lib\\site-packages (from ipython>=7.23.1->ipykernel->jupyter) (5.1.1)\n",
      "Requirement already satisfied: jedi>=0.16 in c:\\users\\lipku\\miniconda3\\envs\\venv_ee3801\\lib\\site-packages (from ipython>=7.23.1->ipykernel->jupyter) (0.19.1)\n",
      "Requirement already satisfied: stack-data in c:\\users\\lipku\\miniconda3\\envs\\venv_ee3801\\lib\\site-packages (from ipython>=7.23.1->ipykernel->jupyter) (0.2.0)\n",
      "Requirement already satisfied: typing-extensions>=4.6 in c:\\users\\lipku\\miniconda3\\envs\\venv_ee3801\\lib\\site-packages (from ipython>=7.23.1->ipykernel->jupyter) (4.11.0)\n",
      "Requirement already satisfied: colorama in c:\\users\\lipku\\miniconda3\\envs\\venv_ee3801\\lib\\site-packages (from ipython>=7.23.1->ipykernel->jupyter) (0.4.6)\n",
      "Requirement already satisfied: python-dateutil>=2.8.2 in c:\\users\\lipku\\miniconda3\\envs\\venv_ee3801\\lib\\site-packages (from jupyter-client>=6.1.12->ipykernel->jupyter) (2.9.0.post0)\n",
      "Requirement already satisfied: platformdirs>=2.5 in c:\\users\\lipku\\miniconda3\\envs\\venv_ee3801\\lib\\site-packages (from jupyter-core!=5.0.*,>=4.12->ipykernel->jupyter) (3.10.0)\n",
      "Requirement already satisfied: pywin32>=300 in c:\\users\\lipku\\miniconda3\\envs\\venv_ee3801\\lib\\site-packages (from jupyter-core!=5.0.*,>=4.12->ipykernel->jupyter) (305.1)\n",
      "Requirement already satisfied: argon2-cffi>=21.1 in c:\\users\\lipku\\miniconda3\\envs\\venv_ee3801\\lib\\site-packages (from jupyter-server<3,>=2.4.0->jupyterlab->jupyter) (21.3.0)\n",
      "Requirement already satisfied: jupyter-events>=0.9.0 in c:\\users\\lipku\\miniconda3\\envs\\venv_ee3801\\lib\\site-packages (from jupyter-server<3,>=2.4.0->jupyterlab->jupyter) (0.10.0)\n",
      "Requirement already satisfied: jupyter-server-terminals>=0.4.4 in c:\\users\\lipku\\miniconda3\\envs\\venv_ee3801\\lib\\site-packages (from jupyter-server<3,>=2.4.0->jupyterlab->jupyter) (0.4.4)\n",
      "Requirement already satisfied: overrides>=5.0 in c:\\users\\lipku\\miniconda3\\envs\\venv_ee3801\\lib\\site-packages (from jupyter-server<3,>=2.4.0->jupyterlab->jupyter) (7.4.0)\n",
      "Requirement already satisfied: prometheus-client>=0.9 in c:\\users\\lipku\\miniconda3\\envs\\venv_ee3801\\lib\\site-packages (from jupyter-server<3,>=2.4.0->jupyterlab->jupyter) (0.14.1)\n",
      "Requirement already satisfied: pywinpty>=2.0.1 in c:\\users\\lipku\\miniconda3\\envs\\venv_ee3801\\lib\\site-packages (from jupyter-server<3,>=2.4.0->jupyterlab->jupyter) (2.0.10)\n",
      "Requirement already satisfied: send2trash>=1.8.2 in c:\\users\\lipku\\miniconda3\\envs\\venv_ee3801\\lib\\site-packages (from jupyter-server<3,>=2.4.0->jupyterlab->jupyter) (1.8.2)\n",
      "Requirement already satisfied: terminado>=0.8.3 in c:\\users\\lipku\\miniconda3\\envs\\venv_ee3801\\lib\\site-packages (from jupyter-server<3,>=2.4.0->jupyterlab->jupyter) (0.17.1)\n",
      "Requirement already satisfied: websocket-client>=1.7 in c:\\users\\lipku\\miniconda3\\envs\\venv_ee3801\\lib\\site-packages (from jupyter-server<3,>=2.4.0->jupyterlab->jupyter) (1.8.0)\n",
      "Requirement already satisfied: babel>=2.10 in c:\\users\\lipku\\miniconda3\\envs\\venv_ee3801\\lib\\site-packages (from jupyterlab-server<3,>=2.27.1->jupyterlab->jupyter) (2.11.0)\n",
      "Requirement already satisfied: json5>=0.9.0 in c:\\users\\lipku\\miniconda3\\envs\\venv_ee3801\\lib\\site-packages (from jupyterlab-server<3,>=2.27.1->jupyterlab->jupyter) (0.9.6)\n",
      "Requirement already satisfied: jsonschema>=4.18.0 in c:\\users\\lipku\\miniconda3\\envs\\venv_ee3801\\lib\\site-packages (from jupyterlab-server<3,>=2.27.1->jupyterlab->jupyter) (4.23.0)\n",
      "Requirement already satisfied: requests>=2.31 in c:\\users\\lipku\\miniconda3\\envs\\venv_ee3801\\lib\\site-packages (from jupyterlab-server<3,>=2.27.1->jupyterlab->jupyter) (2.32.3)\n",
      "Requirement already satisfied: fastjsonschema>=2.15 in c:\\users\\lipku\\miniconda3\\envs\\venv_ee3801\\lib\\site-packages (from nbformat>=5.7->nbconvert->jupyter) (2.16.2)\n",
      "Requirement already satisfied: wcwidth in c:\\users\\lipku\\miniconda3\\envs\\venv_ee3801\\lib\\site-packages (from prompt-toolkit>=3.0.30->jupyter-console->jupyter) (0.2.5)\n",
      "Requirement already satisfied: soupsieve>1.2 in c:\\users\\lipku\\miniconda3\\envs\\venv_ee3801\\lib\\site-packages (from beautifulsoup4->nbconvert->jupyter) (2.5)\n",
      "Requirement already satisfied: argon2-cffi-bindings in c:\\users\\lipku\\miniconda3\\envs\\venv_ee3801\\lib\\site-packages (from argon2-cffi>=21.1->jupyter-server<3,>=2.4.0->jupyterlab->jupyter) (21.2.0)\n",
      "Requirement already satisfied: pytz>=2015.7 in c:\\users\\lipku\\miniconda3\\envs\\venv_ee3801\\lib\\site-packages (from babel>=2.10->jupyterlab-server<3,>=2.27.1->jupyterlab->jupyter) (2024.1)\n",
      "Requirement already satisfied: parso<0.9.0,>=0.8.3 in c:\\users\\lipku\\miniconda3\\envs\\venv_ee3801\\lib\\site-packages (from jedi>=0.16->ipython>=7.23.1->ipykernel->jupyter) (0.8.3)\n",
      "Requirement already satisfied: attrs>=22.2.0 in c:\\users\\lipku\\miniconda3\\envs\\venv_ee3801\\lib\\site-packages (from jsonschema>=4.18.0->jupyterlab-server<3,>=2.27.1->jupyterlab->jupyter) (24.2.0)\n",
      "Requirement already satisfied: jsonschema-specifications>=2023.03.6 in c:\\users\\lipku\\miniconda3\\envs\\venv_ee3801\\lib\\site-packages (from jsonschema>=4.18.0->jupyterlab-server<3,>=2.27.1->jupyterlab->jupyter) (2023.7.1)\n",
      "Requirement already satisfied: referencing>=0.28.4 in c:\\users\\lipku\\miniconda3\\envs\\venv_ee3801\\lib\\site-packages (from jsonschema>=4.18.0->jupyterlab-server<3,>=2.27.1->jupyterlab->jupyter) (0.30.2)\n",
      "Requirement already satisfied: rpds-py>=0.7.1 in c:\\users\\lipku\\miniconda3\\envs\\venv_ee3801\\lib\\site-packages (from jsonschema>=4.18.0->jupyterlab-server<3,>=2.27.1->jupyterlab->jupyter) (0.10.6)\n",
      "Requirement already satisfied: python-json-logger>=2.0.4 in c:\\users\\lipku\\miniconda3\\envs\\venv_ee3801\\lib\\site-packages (from jupyter-events>=0.9.0->jupyter-server<3,>=2.4.0->jupyterlab->jupyter) (2.0.7)\n",
      "Requirement already satisfied: pyyaml>=5.3 in c:\\users\\lipku\\miniconda3\\envs\\venv_ee3801\\lib\\site-packages (from jupyter-events>=0.9.0->jupyter-server<3,>=2.4.0->jupyterlab->jupyter) (6.0.2)\n",
      "Requirement already satisfied: rfc3339-validator in c:\\users\\lipku\\miniconda3\\envs\\venv_ee3801\\lib\\site-packages (from jupyter-events>=0.9.0->jupyter-server<3,>=2.4.0->jupyterlab->jupyter) (0.1.4)\n",
      "Requirement already satisfied: rfc3986-validator>=0.1.1 in c:\\users\\lipku\\miniconda3\\envs\\venv_ee3801\\lib\\site-packages (from jupyter-events>=0.9.0->jupyter-server<3,>=2.4.0->jupyterlab->jupyter) (0.1.1)\n",
      "Requirement already satisfied: charset-normalizer<4,>=2 in c:\\users\\lipku\\miniconda3\\envs\\venv_ee3801\\lib\\site-packages (from requests>=2.31->jupyterlab-server<3,>=2.27.1->jupyterlab->jupyter) (3.4.0)\n",
      "Requirement already satisfied: urllib3<3,>=1.21.1 in c:\\users\\lipku\\miniconda3\\envs\\venv_ee3801\\lib\\site-packages (from requests>=2.31->jupyterlab-server<3,>=2.27.1->jupyterlab->jupyter) (2.2.3)\n",
      "Requirement already satisfied: executing in c:\\users\\lipku\\miniconda3\\envs\\venv_ee3801\\lib\\site-packages (from stack-data->ipython>=7.23.1->ipykernel->jupyter) (0.8.3)\n",
      "Requirement already satisfied: asttokens in c:\\users\\lipku\\miniconda3\\envs\\venv_ee3801\\lib\\site-packages (from stack-data->ipython>=7.23.1->ipykernel->jupyter) (2.0.5)\n",
      "Requirement already satisfied: pure-eval in c:\\users\\lipku\\miniconda3\\envs\\venv_ee3801\\lib\\site-packages (from stack-data->ipython>=7.23.1->ipykernel->jupyter) (0.2.2)\n",
      "Requirement already satisfied: fqdn in c:\\users\\lipku\\miniconda3\\envs\\venv_ee3801\\lib\\site-packages (from jsonschema[format-nongpl]>=4.18.0->jupyter-events>=0.9.0->jupyter-server<3,>=2.4.0->jupyterlab->jupyter) (1.5.1)\n",
      "Requirement already satisfied: isoduration in c:\\users\\lipku\\miniconda3\\envs\\venv_ee3801\\lib\\site-packages (from jsonschema[format-nongpl]>=4.18.0->jupyter-events>=0.9.0->jupyter-server<3,>=2.4.0->jupyterlab->jupyter) (20.11.0)\n",
      "Requirement already satisfied: jsonpointer>1.13 in c:\\users\\lipku\\miniconda3\\envs\\venv_ee3801\\lib\\site-packages (from jsonschema[format-nongpl]>=4.18.0->jupyter-events>=0.9.0->jupyter-server<3,>=2.4.0->jupyterlab->jupyter) (3.0.0)\n",
      "Requirement already satisfied: uri-template in c:\\users\\lipku\\miniconda3\\envs\\venv_ee3801\\lib\\site-packages (from jsonschema[format-nongpl]>=4.18.0->jupyter-events>=0.9.0->jupyter-server<3,>=2.4.0->jupyterlab->jupyter) (1.3.0)\n",
      "Requirement already satisfied: webcolors>=24.6.0 in c:\\users\\lipku\\miniconda3\\envs\\venv_ee3801\\lib\\site-packages (from jsonschema[format-nongpl]>=4.18.0->jupyter-events>=0.9.0->jupyter-server<3,>=2.4.0->jupyterlab->jupyter) (24.8.0)\n",
      "Requirement already satisfied: cffi>=1.0.1 in c:\\users\\lipku\\miniconda3\\envs\\venv_ee3801\\lib\\site-packages (from argon2-cffi-bindings->argon2-cffi>=21.1->jupyter-server<3,>=2.4.0->jupyterlab->jupyter) (1.17.1)\n",
      "Requirement already satisfied: pycparser in c:\\users\\lipku\\miniconda3\\envs\\venv_ee3801\\lib\\site-packages (from cffi>=1.0.1->argon2-cffi-bindings->argon2-cffi>=21.1->jupyter-server<3,>=2.4.0->jupyterlab->jupyter) (2.21)\n",
      "Requirement already satisfied: arrow>=0.15.0 in c:\\users\\lipku\\miniconda3\\envs\\venv_ee3801\\lib\\site-packages (from isoduration->jsonschema[format-nongpl]>=4.18.0->jupyter-events>=0.9.0->jupyter-server<3,>=2.4.0->jupyterlab->jupyter) (1.3.0)\n",
      "Requirement already satisfied: types-python-dateutil>=2.8.10 in c:\\users\\lipku\\miniconda3\\envs\\venv_ee3801\\lib\\site-packages (from arrow>=0.15.0->isoduration->jsonschema[format-nongpl]>=4.18.0->jupyter-events>=0.9.0->jupyter-server<3,>=2.4.0->jupyterlab->jupyter) (2.9.0.20241003)\n",
      "Requirement already satisfied: ipywidgets in c:\\users\\lipku\\miniconda3\\envs\\venv_ee3801\\lib\\site-packages (8.1.5)\n",
      "Requirement already satisfied: comm>=0.1.3 in c:\\users\\lipku\\miniconda3\\envs\\venv_ee3801\\lib\\site-packages (from ipywidgets) (0.2.1)\n",
      "Requirement already satisfied: ipython>=6.1.0 in c:\\users\\lipku\\miniconda3\\envs\\venv_ee3801\\lib\\site-packages (from ipywidgets) (8.27.0)\n",
      "Requirement already satisfied: traitlets>=4.3.1 in c:\\users\\lipku\\miniconda3\\envs\\venv_ee3801\\lib\\site-packages (from ipywidgets) (5.14.3)\n",
      "Requirement already satisfied: widgetsnbextension~=4.0.12 in c:\\users\\lipku\\miniconda3\\envs\\venv_ee3801\\lib\\site-packages (from ipywidgets) (4.0.13)\n",
      "Requirement already satisfied: jupyterlab-widgets~=3.0.12 in c:\\users\\lipku\\miniconda3\\envs\\venv_ee3801\\lib\\site-packages (from ipywidgets) (3.0.13)\n",
      "Requirement already satisfied: decorator in c:\\users\\lipku\\miniconda3\\envs\\venv_ee3801\\lib\\site-packages (from ipython>=6.1.0->ipywidgets) (5.1.1)\n",
      "Requirement already satisfied: jedi>=0.16 in c:\\users\\lipku\\miniconda3\\envs\\venv_ee3801\\lib\\site-packages (from ipython>=6.1.0->ipywidgets) (0.19.1)\n",
      "Requirement already satisfied: matplotlib-inline in c:\\users\\lipku\\miniconda3\\envs\\venv_ee3801\\lib\\site-packages (from ipython>=6.1.0->ipywidgets) (0.1.6)\n",
      "Requirement already satisfied: prompt-toolkit<3.1.0,>=3.0.41 in c:\\users\\lipku\\miniconda3\\envs\\venv_ee3801\\lib\\site-packages (from ipython>=6.1.0->ipywidgets) (3.0.43)\n",
      "Requirement already satisfied: pygments>=2.4.0 in c:\\users\\lipku\\miniconda3\\envs\\venv_ee3801\\lib\\site-packages (from ipython>=6.1.0->ipywidgets) (2.15.1)\n",
      "Requirement already satisfied: stack-data in c:\\users\\lipku\\miniconda3\\envs\\venv_ee3801\\lib\\site-packages (from ipython>=6.1.0->ipywidgets) (0.2.0)\n",
      "Requirement already satisfied: typing-extensions>=4.6 in c:\\users\\lipku\\miniconda3\\envs\\venv_ee3801\\lib\\site-packages (from ipython>=6.1.0->ipywidgets) (4.11.0)\n",
      "Requirement already satisfied: colorama in c:\\users\\lipku\\miniconda3\\envs\\venv_ee3801\\lib\\site-packages (from ipython>=6.1.0->ipywidgets) (0.4.6)\n",
      "Requirement already satisfied: parso<0.9.0,>=0.8.3 in c:\\users\\lipku\\miniconda3\\envs\\venv_ee3801\\lib\\site-packages (from jedi>=0.16->ipython>=6.1.0->ipywidgets) (0.8.3)\n",
      "Requirement already satisfied: wcwidth in c:\\users\\lipku\\miniconda3\\envs\\venv_ee3801\\lib\\site-packages (from prompt-toolkit<3.1.0,>=3.0.41->ipython>=6.1.0->ipywidgets) (0.2.5)\n",
      "Requirement already satisfied: executing in c:\\users\\lipku\\miniconda3\\envs\\venv_ee3801\\lib\\site-packages (from stack-data->ipython>=6.1.0->ipywidgets) (0.8.3)\n",
      "Requirement already satisfied: asttokens in c:\\users\\lipku\\miniconda3\\envs\\venv_ee3801\\lib\\site-packages (from stack-data->ipython>=6.1.0->ipywidgets) (2.0.5)\n",
      "Requirement already satisfied: pure-eval in c:\\users\\lipku\\miniconda3\\envs\\venv_ee3801\\lib\\site-packages (from stack-data->ipython>=6.1.0->ipywidgets) (0.2.2)\n",
      "Requirement already satisfied: six in c:\\users\\lipku\\miniconda3\\envs\\venv_ee3801\\lib\\site-packages (from asttokens->stack-data->ipython>=6.1.0->ipywidgets) (1.16.0)\n"
     ]
    },
    {
     "name": "stderr",
     "output_type": "stream",
     "text": [
      "WARNING: Skipping whisper as it is not installed.\n"
     ]
    },
    {
     "name": "stdout",
     "output_type": "stream",
     "text": [
      "Requirement already satisfied: openai-whisper in c:\\users\\lipku\\miniconda3\\envs\\venv_ee3801\\lib\\site-packages (20240930)\n",
      "Requirement already satisfied: numba in c:\\users\\lipku\\miniconda3\\envs\\venv_ee3801\\lib\\site-packages (from openai-whisper) (0.60.0)\n",
      "Requirement already satisfied: numpy in c:\\users\\lipku\\miniconda3\\envs\\venv_ee3801\\lib\\site-packages (from openai-whisper) (1.26.4)\n",
      "Requirement already satisfied: torch in c:\\users\\lipku\\miniconda3\\envs\\venv_ee3801\\lib\\site-packages (from openai-whisper) (2.5.1)\n",
      "Requirement already satisfied: tqdm in c:\\users\\lipku\\miniconda3\\envs\\venv_ee3801\\lib\\site-packages (from openai-whisper) (4.66.5)\n",
      "Requirement already satisfied: more-itertools in c:\\users\\lipku\\miniconda3\\envs\\venv_ee3801\\lib\\site-packages (from openai-whisper) (10.5.0)\n",
      "Requirement already satisfied: tiktoken in c:\\users\\lipku\\miniconda3\\envs\\venv_ee3801\\lib\\site-packages (from openai-whisper) (0.8.0)\n",
      "Requirement already satisfied: llvmlite<0.44,>=0.43.0dev0 in c:\\users\\lipku\\miniconda3\\envs\\venv_ee3801\\lib\\site-packages (from numba->openai-whisper) (0.43.0)\n",
      "Requirement already satisfied: regex>=2022.1.18 in c:\\users\\lipku\\miniconda3\\envs\\venv_ee3801\\lib\\site-packages (from tiktoken->openai-whisper) (2024.9.11)\n",
      "Requirement already satisfied: requests>=2.26.0 in c:\\users\\lipku\\miniconda3\\envs\\venv_ee3801\\lib\\site-packages (from tiktoken->openai-whisper) (2.32.3)\n",
      "Requirement already satisfied: filelock in c:\\users\\lipku\\miniconda3\\envs\\venv_ee3801\\lib\\site-packages (from torch->openai-whisper) (3.16.1)\n",
      "Requirement already satisfied: typing-extensions>=4.8.0 in c:\\users\\lipku\\miniconda3\\envs\\venv_ee3801\\lib\\site-packages (from torch->openai-whisper) (4.11.0)\n",
      "Requirement already satisfied: networkx in c:\\users\\lipku\\miniconda3\\envs\\venv_ee3801\\lib\\site-packages (from torch->openai-whisper) (3.1)\n",
      "Requirement already satisfied: jinja2 in c:\\users\\lipku\\miniconda3\\envs\\venv_ee3801\\lib\\site-packages (from torch->openai-whisper) (3.1.4)\n",
      "Requirement already satisfied: fsspec in c:\\users\\lipku\\miniconda3\\envs\\venv_ee3801\\lib\\site-packages (from torch->openai-whisper) (2024.10.0)\n",
      "Requirement already satisfied: sympy==1.13.1 in c:\\users\\lipku\\miniconda3\\envs\\venv_ee3801\\lib\\site-packages (from torch->openai-whisper) (1.13.1)\n",
      "Requirement already satisfied: mpmath<1.4,>=1.1.0 in c:\\users\\lipku\\miniconda3\\envs\\venv_ee3801\\lib\\site-packages (from sympy==1.13.1->torch->openai-whisper) (1.3.0)\n",
      "Requirement already satisfied: colorama in c:\\users\\lipku\\miniconda3\\envs\\venv_ee3801\\lib\\site-packages (from tqdm->openai-whisper) (0.4.6)\n",
      "Requirement already satisfied: charset-normalizer<4,>=2 in c:\\users\\lipku\\miniconda3\\envs\\venv_ee3801\\lib\\site-packages (from requests>=2.26.0->tiktoken->openai-whisper) (3.4.0)\n",
      "Requirement already satisfied: idna<4,>=2.5 in c:\\users\\lipku\\miniconda3\\envs\\venv_ee3801\\lib\\site-packages (from requests>=2.26.0->tiktoken->openai-whisper) (3.10)\n",
      "Requirement already satisfied: urllib3<3,>=1.21.1 in c:\\users\\lipku\\miniconda3\\envs\\venv_ee3801\\lib\\site-packages (from requests>=2.26.0->tiktoken->openai-whisper) (2.2.3)\n",
      "Requirement already satisfied: certifi>=2017.4.17 in c:\\users\\lipku\\miniconda3\\envs\\venv_ee3801\\lib\\site-packages (from requests>=2.26.0->tiktoken->openai-whisper) (2024.8.30)\n",
      "Requirement already satisfied: MarkupSafe>=2.0 in c:\\users\\lipku\\miniconda3\\envs\\venv_ee3801\\lib\\site-packages (from jinja2->torch->openai-whisper) (2.1.3)\n",
      "Requirement already satisfied: numpy in c:\\users\\lipku\\miniconda3\\envs\\venv_ee3801\\lib\\site-packages (1.26.4)\n",
      "Collecting numpy\n",
      "  Using cached numpy-2.1.3-cp311-cp311-win_amd64.whl.metadata (60 kB)\n",
      "Using cached numpy-2.1.3-cp311-cp311-win_amd64.whl (12.9 MB)\n",
      "Installing collected packages: numpy\n",
      "  Attempting uninstall: numpy\n",
      "    Found existing installation: numpy 1.26.4\n",
      "    Uninstalling numpy-1.26.4:\n",
      "      Successfully uninstalled numpy-1.26.4\n",
      "Successfully installed numpy-2.1.3\n"
     ]
    },
    {
     "name": "stderr",
     "output_type": "stream",
     "text": [
      "ERROR: pip's dependency resolver does not currently take into account all the packages that are installed. This behaviour is the source of the following dependency conflicts.\n",
      "numba 0.60.0 requires numpy<2.1,>=1.22, but you have numpy 2.1.3 which is incompatible.\n",
      "torchmetrics 1.5.1 requires numpy<2.0,>1.20.0, but you have numpy 2.1.3 which is incompatible.\n"
     ]
    },
    {
     "name": "stdout",
     "output_type": "stream",
     "text": [
      "Requirement already satisfied: openai-whisper in c:\\users\\lipku\\miniconda3\\envs\\venv_ee3801\\lib\\site-packages (20240930)\n",
      "Requirement already satisfied: numba in c:\\users\\lipku\\miniconda3\\envs\\venv_ee3801\\lib\\site-packages (from openai-whisper) (0.60.0)\n",
      "Requirement already satisfied: numpy in c:\\users\\lipku\\miniconda3\\envs\\venv_ee3801\\lib\\site-packages (from openai-whisper) (2.1.3)\n",
      "Requirement already satisfied: torch in c:\\users\\lipku\\miniconda3\\envs\\venv_ee3801\\lib\\site-packages (from openai-whisper) (2.5.1)\n",
      "Requirement already satisfied: tqdm in c:\\users\\lipku\\miniconda3\\envs\\venv_ee3801\\lib\\site-packages (from openai-whisper) (4.66.5)\n",
      "Requirement already satisfied: more-itertools in c:\\users\\lipku\\miniconda3\\envs\\venv_ee3801\\lib\\site-packages (from openai-whisper) (10.5.0)\n",
      "Requirement already satisfied: tiktoken in c:\\users\\lipku\\miniconda3\\envs\\venv_ee3801\\lib\\site-packages (from openai-whisper) (0.8.0)\n",
      "Requirement already satisfied: llvmlite<0.44,>=0.43.0dev0 in c:\\users\\lipku\\miniconda3\\envs\\venv_ee3801\\lib\\site-packages (from numba->openai-whisper) (0.43.0)\n",
      "Collecting numpy (from openai-whisper)\n",
      "  Using cached numpy-2.0.2-cp311-cp311-win_amd64.whl.metadata (59 kB)\n",
      "Requirement already satisfied: regex>=2022.1.18 in c:\\users\\lipku\\miniconda3\\envs\\venv_ee3801\\lib\\site-packages (from tiktoken->openai-whisper) (2024.9.11)\n",
      "Requirement already satisfied: requests>=2.26.0 in c:\\users\\lipku\\miniconda3\\envs\\venv_ee3801\\lib\\site-packages (from tiktoken->openai-whisper) (2.32.3)\n",
      "Requirement already satisfied: filelock in c:\\users\\lipku\\miniconda3\\envs\\venv_ee3801\\lib\\site-packages (from torch->openai-whisper) (3.16.1)\n",
      "Requirement already satisfied: typing-extensions>=4.8.0 in c:\\users\\lipku\\miniconda3\\envs\\venv_ee3801\\lib\\site-packages (from torch->openai-whisper) (4.11.0)\n",
      "Requirement already satisfied: networkx in c:\\users\\lipku\\miniconda3\\envs\\venv_ee3801\\lib\\site-packages (from torch->openai-whisper) (3.1)\n",
      "Requirement already satisfied: jinja2 in c:\\users\\lipku\\miniconda3\\envs\\venv_ee3801\\lib\\site-packages (from torch->openai-whisper) (3.1.4)\n",
      "Requirement already satisfied: fsspec in c:\\users\\lipku\\miniconda3\\envs\\venv_ee3801\\lib\\site-packages (from torch->openai-whisper) (2024.10.0)\n",
      "Requirement already satisfied: sympy==1.13.1 in c:\\users\\lipku\\miniconda3\\envs\\venv_ee3801\\lib\\site-packages (from torch->openai-whisper) (1.13.1)\n",
      "Requirement already satisfied: mpmath<1.4,>=1.1.0 in c:\\users\\lipku\\miniconda3\\envs\\venv_ee3801\\lib\\site-packages (from sympy==1.13.1->torch->openai-whisper) (1.3.0)\n",
      "Requirement already satisfied: colorama in c:\\users\\lipku\\miniconda3\\envs\\venv_ee3801\\lib\\site-packages (from tqdm->openai-whisper) (0.4.6)\n",
      "Requirement already satisfied: charset-normalizer<4,>=2 in c:\\users\\lipku\\miniconda3\\envs\\venv_ee3801\\lib\\site-packages (from requests>=2.26.0->tiktoken->openai-whisper) (3.4.0)\n",
      "Requirement already satisfied: idna<4,>=2.5 in c:\\users\\lipku\\miniconda3\\envs\\venv_ee3801\\lib\\site-packages (from requests>=2.26.0->tiktoken->openai-whisper) (3.10)\n",
      "Requirement already satisfied: urllib3<3,>=1.21.1 in c:\\users\\lipku\\miniconda3\\envs\\venv_ee3801\\lib\\site-packages (from requests>=2.26.0->tiktoken->openai-whisper) (2.2.3)\n",
      "Requirement already satisfied: certifi>=2017.4.17 in c:\\users\\lipku\\miniconda3\\envs\\venv_ee3801\\lib\\site-packages (from requests>=2.26.0->tiktoken->openai-whisper) (2024.8.30)\n",
      "Requirement already satisfied: MarkupSafe>=2.0 in c:\\users\\lipku\\miniconda3\\envs\\venv_ee3801\\lib\\site-packages (from jinja2->torch->openai-whisper) (2.1.3)\n",
      "Using cached numpy-2.0.2-cp311-cp311-win_amd64.whl (15.9 MB)\n",
      "Installing collected packages: numpy\n",
      "  Attempting uninstall: numpy\n",
      "    Found existing installation: numpy 2.1.3\n",
      "    Uninstalling numpy-2.1.3:\n",
      "      Successfully uninstalled numpy-2.1.3\n",
      "Successfully installed numpy-2.0.2\n"
     ]
    },
    {
     "name": "stderr",
     "output_type": "stream",
     "text": [
      "ERROR: pip's dependency resolver does not currently take into account all the packages that are installed. This behaviour is the source of the following dependency conflicts.\n",
      "torchmetrics 1.5.1 requires numpy<2.0,>1.20.0, but you have numpy 2.0.2 which is incompatible.\n"
     ]
    }
   ],
   "source": [
    "!pip3 install -U jupyter\n",
    "!pip3 install -U ipywidgets\n",
    "!pip3 uninstall whisper -y\n",
    "!pip3 install openai-whisper\n",
    "!pip3 install -U numpy\n",
    "!pip3 install -U openai-whisper"
   ]
  },
  {
   "cell_type": "code",
   "execution_count": 1,
   "id": "3744629e-e1ae-4888-978a-295419406121",
   "metadata": {},
   "outputs": [
    {
     "name": "stdout",
     "output_type": "stream",
     "text": [
      "Requirement already satisfied: torch in c:\\users\\lipku\\miniconda3\\envs\\venv_ee3801\\lib\\site-packages (2.5.1)\n",
      "Requirement already satisfied: filelock in c:\\users\\lipku\\miniconda3\\envs\\venv_ee3801\\lib\\site-packages (from torch) (3.16.1)\n",
      "Requirement already satisfied: typing-extensions>=4.8.0 in c:\\users\\lipku\\miniconda3\\envs\\venv_ee3801\\lib\\site-packages (from torch) (4.11.0)\n",
      "Requirement already satisfied: networkx in c:\\users\\lipku\\miniconda3\\envs\\venv_ee3801\\lib\\site-packages (from torch) (3.1)\n",
      "Requirement already satisfied: jinja2 in c:\\users\\lipku\\miniconda3\\envs\\venv_ee3801\\lib\\site-packages (from torch) (3.1.4)\n",
      "Requirement already satisfied: fsspec in c:\\users\\lipku\\miniconda3\\envs\\venv_ee3801\\lib\\site-packages (from torch) (2024.10.0)\n",
      "Requirement already satisfied: sympy==1.13.1 in c:\\users\\lipku\\miniconda3\\envs\\venv_ee3801\\lib\\site-packages (from torch) (1.13.1)\n",
      "Requirement already satisfied: mpmath<1.4,>=1.1.0 in c:\\users\\lipku\\miniconda3\\envs\\venv_ee3801\\lib\\site-packages (from sympy==1.13.1->torch) (1.3.0)\n",
      "Requirement already satisfied: MarkupSafe>=2.0 in c:\\users\\lipku\\miniconda3\\envs\\venv_ee3801\\lib\\site-packages (from jinja2->torch) (2.1.3)\n",
      "Found existing installation: numpy 1.26.4\n",
      "Uninstalling numpy-1.26.4:\n",
      "  Successfully uninstalled numpy-1.26.4\n",
      "Collecting numpy==1.26.4\n",
      "  Using cached numpy-1.26.4-cp311-cp311-win_amd64.whl.metadata (61 kB)\n",
      "Using cached numpy-1.26.4-cp311-cp311-win_amd64.whl (15.8 MB)\n",
      "Installing collected packages: numpy\n",
      "Successfully installed numpy-1.26.4\n"
     ]
    }
   ],
   "source": [
    "# python 3.11.5\n",
    "!pip3 install -U torch\n",
    "!pip3 uninstall numpy -y\n",
    "!pip3 install numpy==1.26.4\n",
    "# restart kernel"
   ]
  },
  {
   "cell_type": "markdown",
   "id": "78a5b24b-21e6-4667-b4cc-6eba3f70d1ad",
   "metadata": {},
   "source": [
    "# 3. Read from the script as you are recording\n",
    "\n",
    "Producers are fairly straightforward – they send messages to a topic and partition, maybe request an acknowledgment, retry if a message fails – or not – and continue. Consumers, however, can be a little more complicated.\n",
    "\n",
    "Consumers read messages from a topic. Consumers run in a poll loop that runs indefinitely waiting for messages. Consumers can read from the beginning – they will start at the first message in the topic and read the entire history. Once caught up, the consumer will wait for new messages."
   ]
  },
  {
   "cell_type": "markdown",
   "id": "61755f58-56f9-4e2f-929e-b7351502c6db",
   "metadata": {},
   "source": [
    "# 4. Capture every sentence in a paragraph\n",
    "\n",
    "Using the device's audio capture the audio, record the sentence, send the audio data using Producer to a topic."
   ]
  },
  {
   "cell_type": "code",
   "execution_count": 6,
   "id": "98a1d537-ea32-40d6-b24d-3955f0ddd97b",
   "metadata": {},
   "outputs": [],
   "source": [
    "# if timeout add 127.0.0.1 host.docker.internal to /etc/hosts"
   ]
  },
  {
   "cell_type": "markdown",
   "id": "a86cc151-6a56-439e-b7ac-eb7b1d87008f",
   "metadata": {},
   "source": [
    "# 4.1 Initialise Producer"
   ]
  },
  {
   "cell_type": "code",
   "execution_count": 7,
   "id": "96f4dc03-ee3c-4077-ad3b-6029882162b4",
   "metadata": {},
   "outputs": [
    {
     "name": "stdout",
     "output_type": "stream",
     "text": [
      "Requirement already satisfied: six in c:\\users\\lipku\\miniconda3\\envs\\venv_ee3801\\lib\\site-packages (1.16.0)\n",
      "Requirement already satisfied: kafka-python-ng in c:\\users\\lipku\\miniconda3\\envs\\venv_ee3801\\lib\\site-packages (2.2.3)\n"
     ]
    }
   ],
   "source": [
    "!pip install six\n",
    "!pip install kafka-python-ng"
   ]
  },
  {
   "cell_type": "code",
   "execution_count": 8,
   "id": "8a2b7415-114d-4c65-b374-38b6544fb37b",
   "metadata": {},
   "outputs": [],
   "source": [
    "import six\n",
    "import sys\n",
    "if sys.version_info >= (3, 12, 0):\n",
    "    sys.modules['kafka.vendor.six.moves'] = six.moves"
   ]
  },
  {
   "cell_type": "code",
   "execution_count": 9,
   "id": "250623c6-2da4-4644-a804-60f4a0295087",
   "metadata": {},
   "outputs": [],
   "source": [
    "# kafka-python Producer\n",
    "from kafka import KafkaProducer\n",
    "from kafka.errors import KafkaError\n",
    "\n",
    "# produce asynchronously with callbacks\n",
    "producer = KafkaProducer(bootstrap_servers=['localhost:29092','localhost:39092','localhost:49092']) \n",
    "\n",
    "def on_send_success(record_metadata):\n",
    "    print(record_metadata.topic)\n",
    "    print(record_metadata.partition)\n",
    "    print(record_metadata.offset)\n",
    "\n",
    "def on_send_error(excp):\n",
    "    print('I am an errback', exc_info=excp)\n",
    "    # handle exception"
   ]
  },
  {
   "cell_type": "markdown",
   "id": "c9b70545-3262-46cd-a837-d20c0700601c",
   "metadata": {},
   "source": [
    "# 4.2 Single thread audio Producer\n"
   ]
  },
  {
   "cell_type": "code",
   "execution_count": 17,
   "id": "c1cd7bd6-6f55-46a4-bb3b-8a56d4ba6255",
   "metadata": {},
   "outputs": [
    {
     "name": "stdout",
     "output_type": "stream",
     "text": [
      "04/11/2024, 13:14:02 audio_duration (s): 5\n",
      "dataengineering\n",
      "0\n",
      "218\n",
      "04/11/2024, 13:14:07 audio_duration (s): 4\n",
      "dataengineering\n",
      "0\n",
      "219\n",
      "04/11/2024, 13:14:12 audio_duration (s): 4\n",
      "dataengineering\n",
      "0\n",
      "220\n",
      "04/11/2024, 13:14:18 audio_duration (s): 4\n",
      "dataengineering\n",
      "0\n",
      "221\n",
      "04/11/2024, 13:14:23 audio_duration (s): 4\n",
      "dataengineering\n",
      "0\n",
      "222\n",
      "04/11/2024, 13:14:28 audio_duration (s): 4\n",
      "dataengineering\n",
      "0\n",
      "223\n",
      "04/11/2024, 13:14:33 audio_duration (s): 4\n",
      "dataengineering\n",
      "0\n",
      "224\n",
      "04/11/2024, 13:14:38 audio_duration (s): 4\n",
      "dataengineering\n",
      "0\n",
      "225\n",
      "04/11/2024, 13:14:43 audio_duration (s): 4\n",
      "dataengineering\n",
      "0\n",
      "226\n",
      "04/11/2024, 13:14:48 audio_duration (s): 4\n",
      "dataengineering\n",
      "0\n",
      "227\n",
      "04/11/2024, 13:14:53 audio_duration (s): 4\n",
      "dataengineering\n",
      "0\n",
      "228\n",
      "04/11/2024, 13:14:58 audio_duration (s): 4\n",
      "dataengineering\n",
      "0\n",
      "229\n",
      "04/11/2024, 13:15:03 audio_duration (s): 4\n",
      "dataengineering\n",
      "0\n",
      "230\n",
      "* Exit program after 1min *\n"
     ]
    }
   ],
   "source": [
    "# Single thread audio\n",
    "\n",
    "import pyaudio\n",
    "import wave\n",
    "import numpy as np\n",
    "from datetime import datetime\n",
    "import whisper\n",
    "import sys\n",
    "\n",
    "FORMAT = pyaudio.paInt16\n",
    "CHUNK = 1024\n",
    "RECORD_SECONDS = 5\n",
    "DEVICE_ID = 1\n",
    "\n",
    "audio = pyaudio.PyAudio()\n",
    "RATE = int(audio.get_device_info_by_index(DEVICE_ID)['defaultSampleRate'])\n",
    "CHANNELS = int(audio.get_device_info_by_index(DEVICE_ID)['maxInputChannels'])\n",
    "\n",
    "audio = pyaudio.PyAudio()\n",
    "stream = audio.open(\n",
    "    format=FORMAT,\n",
    "    channels=CHANNELS,\n",
    "    rate=RATE,\n",
    "    input=True,\n",
    "    frames_per_buffer=CHUNK,\n",
    "    input_device_index=DEVICE_ID\n",
    ")\n",
    "\n",
    "start_time = datetime.now()\n",
    "\n",
    "try:\n",
    "    while True:\n",
    "        before_time = datetime.now()\n",
    "        frames = []\n",
    "        for i in range(0, int(RATE / CHUNK * RECORD_SECONDS)):\n",
    "            data = stream.read(CHUNK, exception_on_overflow = False)\n",
    "            frames.append(data)\n",
    "        raw_data = b''.join(frames)\n",
    "\n",
    "        # additional lines of code for functionality:\n",
    "        if CHANNELS > 1:\n",
    "            audio_data = np.frombuffer(raw_data, dtype=np.int16)\n",
    "            audio_data = audio_data.reshape(-1, CHANNELS).mean(axis=1).astype(np.int16)\n",
    "            raw_data = audio_data.tobytes()\n",
    "\n",
    "        # produce asynchronously with callbacks\n",
    "        producer.send('dataengineering', raw_data, key=\"audio\".encode('utf-8'))\\\n",
    "                .add_callback(on_send_success)\\\n",
    "                .add_errback(on_send_error)\n",
    "        print(\"%s audio_duration (s): %s\" % (datetime.now().strftime(\"%d/%m/%Y, %H:%M:%S\"), (datetime.now() - before_time).seconds))\n",
    "\n",
    "        # block until all async messages are sent\n",
    "        producer.flush()\n",
    "\n",
    "        if (datetime.now() - start_time).seconds > 60: #exit program after 1min\n",
    "            stream.stop_stream()\n",
    "            stream.close()\n",
    "            audio.terminate()\n",
    "            print(\"* Exit program after 1min *\")\n",
    "            break\n",
    "        \n",
    "except KeyboardInterrupt as kie:\n",
    "    print(\"* Program terminated by user *\")\n",
    "    stream.stop_stream()\n",
    "    stream.close()\n",
    "    audio.terminate()\n",
    "except Exception as e:\n",
    "    # print(\"Exception:\", e)\n",
    "    if stream!=None:\n",
    "        stream.stop_stream()\n",
    "        stream.close()\n",
    "        audio.terminate()\n",
    "# sys.exit(0)\n",
    "# exit"
   ]
  },
  {
   "cell_type": "markdown",
   "id": "7501d7e5-c1c5-4130-9ba3-c8499d211315",
   "metadata": {},
   "source": [
    "## What did you observe from the messages sent? Submit your findings.\n",
    "The messages sent from the producer are received on the consumer side in real time, with audio segments recorded and sent approximately every 5 seconds. Over a 1-minute period, 12 messages are output by the producer to the dataengineering topic before the program exits. \n",
    "\n",
    "However, on the consumer side, not all of the 12 messages are being received. This could be due to processing lags or an overload in transcription which led to missing data received by the consumer. This process is also susceptible to connection issues, such as network latency/kafka broker unavailability, which could possibly lead to failed message deliveries, resulting in missing data for the consumer.\n"
   ]
  },
  {
   "cell_type": "markdown",
   "id": "25ea4b20-8d83-4216-8b0c-bfa005133732",
   "metadata": {},
   "source": [
    "# Questions to Ponder\n",
    "\n",
    "### 1. Which principle in the good data achitecture does Kafka fulfill?\n",
    "Apache Kafka fulfils several principles of good data architecture, namely: planning for failure, being an architect for scalability and being able to make reversible decisions. \n",
    "Kafka replicates data across multiple nodes, ensuring resilience in case of node failures, making it a strong choice for systems that need to handle failures gracefully.\n",
    "\n",
    "Additionally, Kafka’s distributed architecture allows for horizontal scaling. As data volumes grow, Kafka clusters can be expanded with additional nodes, maintaining performance and accommodating higher throughput.\n",
    "\n",
    "Lastly, Kafka retains historical data for configurable time windows, allowing for reprocessing of events and replays if needed. This is helpful for systems that need to recover from processing errors without losing data.\n",
    "\n",
    "### 2. Can Microsoft Power App exercises do stream processing?\n",
    "Microsoft Power Apps are unable to do stream processing. This is because Power Apps is primarily a low-code platform designed for building custom business applications that connect to data sources and allow users to perform actions like creating, reading, updating, and deleting records. While it can integrate with real-time data sources to provide updates in near real-time, it lacks the functionality to handle continuous, high-throughput data processing or complex event handling, which are key components of stream processing.\n",
    "\n",
    "### 3. What is the advantages and disadvantages of using stream processing?\n",
    "Stream processing provides real-time data insights, allowing for instant responses to data events. This is critical in scenarios like fraud detection, IoT monitoring, and real-time customer engagement.\n",
    "\n",
    "By enabling real-time data insights, this also leads to improved decision making, as by analyzing data as it arrives, businesses can make better-informed decisions faster, improving operational efficiency and responsiveness. \n",
    "\n",
    "Additionally, stream processing frameworks like Kafka are designed to handle large volumes of data and can scale horizontally, allowing systems to grow with data needs. \n",
    "\n",
    "However, stream processing also has its drawbacks. Setting up and managing a stream processing pipeline can be complex as It requires careful design and often specialized knowledge to handle challenges like event ordering, latency, and fault tolerance.\n",
    "\n",
    "Stream processing also often requires significant computational resources to handle real-time data, which can be costly. It demands more memory, storage, and processing power than traditional batch processing.\n",
    "\n",
    "Error handling can be another issue. Since stream processing handles data in motion, recovering from errors is more challenging than with batch processing. Issues in data quality or processing logic needs to be addressed quickly, as they can propagate through the system in real time.\n"
   ]
  },
  {
   "cell_type": "code",
   "execution_count": null,
   "id": "e90c55d5-1618-4291-82cc-98051e7926d3",
   "metadata": {},
   "outputs": [],
   "source": []
  }
 ],
 "metadata": {
  "kernelspec": {
   "display_name": "Python 3 (ipykernel)",
   "language": "python",
   "name": "python3"
  },
  "language_info": {
   "codemirror_mode": {
    "name": "ipython",
    "version": 3
   },
   "file_extension": ".py",
   "mimetype": "text/x-python",
   "name": "python",
   "nbconvert_exporter": "python",
   "pygments_lexer": "ipython3",
   "version": "3.11.10"
  }
 },
 "nbformat": 4,
 "nbformat_minor": 5
}
